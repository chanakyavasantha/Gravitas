{
  "cells": [
    {
      "cell_type": "code",
      "execution_count": 1,
      "metadata": {
        "id": "ZdfDAkbkyNIs"
      },
      "outputs": [
        {
          "name": "stderr",
          "output_type": "stream",
          "text": [
            "2023-09-19 18:15:21.222093: I tensorflow/core/platform/cpu_feature_guard.cc:182] This TensorFlow binary is optimized to use available CPU instructions in performance-critical operations.\n",
            "To enable the following instructions: AVX2 FMA, in other operations, rebuild TensorFlow with the appropriate compiler flags.\n",
            "2023-09-19 18:15:21.774900: W tensorflow/compiler/tf2tensorrt/utils/py_utils.cc:38] TF-TRT Warning: Could not find TensorRT\n"
          ]
        }
      ],
      "source": [
        "import cv2\n",
        "import numpy as np\n",
        "import os\n",
        "from keras.preprocessing.image import ImageDataGenerator\n",
        "from keras import backend as K\n",
        "import keras\n",
        "from keras.models import Sequential, Model,load_model\n",
        "from keras.optimizers import SGD\n",
        "from keras.callbacks import EarlyStopping,ModelCheckpoint\n",
        "from keras.layers import Input, Add, Dense, Activation, ZeroPadding2D, BatchNormalization, Flatten, Conv2D, AveragePooling2D, MaxPooling2D, GlobalMaxPooling2D,MaxPool2D\n",
        "from keras.preprocessing import image\n",
        "from keras.initializers import glorot_uniform\n",
        "import matplotlib.pyplot as plt"
      ]
    },
    {
      "cell_type": "code",
      "execution_count": 2,
      "metadata": {},
      "outputs": [
        {
          "name": "stdout",
          "output_type": "stream",
          "text": [
            "[PhysicalDevice(name='/physical_device:GPU:0', device_type='GPU')]\n"
          ]
        },
        {
          "name": "stderr",
          "output_type": "stream",
          "text": [
            "2023-09-19 18:15:22.704929: I tensorflow/compiler/xla/stream_executor/cuda/cuda_gpu_executor.cc:995] successful NUMA node read from SysFS had negative value (-1), but there must be at least one NUMA node, so returning NUMA node zero. See more at https://github.com/torvalds/linux/blob/v6.0/Documentation/ABI/testing/sysfs-bus-pci#L344-L355\n",
            "2023-09-19 18:15:22.726249: I tensorflow/compiler/xla/stream_executor/cuda/cuda_gpu_executor.cc:995] successful NUMA node read from SysFS had negative value (-1), but there must be at least one NUMA node, so returning NUMA node zero. See more at https://github.com/torvalds/linux/blob/v6.0/Documentation/ABI/testing/sysfs-bus-pci#L344-L355\n",
            "2023-09-19 18:15:22.726440: I tensorflow/compiler/xla/stream_executor/cuda/cuda_gpu_executor.cc:995] successful NUMA node read from SysFS had negative value (-1), but there must be at least one NUMA node, so returning NUMA node zero. See more at https://github.com/torvalds/linux/blob/v6.0/Documentation/ABI/testing/sysfs-bus-pci#L344-L355\n"
          ]
        }
      ],
      "source": [
        "import tensorflow as tf; \n",
        "print(tf.config.list_physical_devices('GPU'))"
      ]
    },
    {
      "cell_type": "code",
      "execution_count": 3,
      "metadata": {},
      "outputs": [
        {
          "data": {
            "text/plain": [
              "[PhysicalDevice(name='/physical_device:GPU:0', device_type='GPU')]"
            ]
          },
          "execution_count": 3,
          "metadata": {},
          "output_type": "execute_result"
        }
      ],
      "source": [
        "import tensorflow as tf\n",
        "tf.config.list_physical_devices('GPU')"
      ]
    },
    {
      "cell_type": "code",
      "execution_count": 4,
      "metadata": {
        "id": "_riPpPKTxmzq"
      },
      "outputs": [],
      "source": [
        "train_path= '/home/itachi/Documents/Gravitas/Training Data'\n",
        "test_path= '/home/itachi/Documents/Gravitas/Testing Data'\n",
        "class_names=os.listdir(train_path)\n",
        "class_names_test=os.listdir(test_path)"
      ]
    },
    {
      "cell_type": "code",
      "execution_count": 5,
      "metadata": {
        "colab": {
          "base_uri": "https://localhost:8080/",
          "height": 954
        },
        "id": "C4udyyd4xm2T",
        "outputId": "a37051a0-6edc-4970-a30d-ab46743484cd"
      },
      "outputs": [
        {
          "data": {
            "text/plain": [
              "'\\nimage_dog = cv2.imread(\\'/home/itachi/Documents/Gravitas/Testing Data/Coast/Coast-Test (1).jpeg\\')\\nimage = cv2.imread(df[\"Path\"][i + adder])\\nif mode:\\n    image = cv.cvtColor(image, cv.COLOR_RGB2BGR)\\n\\nplt.figure(figsize=(25,25))\\nplt.imshow(image)\\nplt.show()\\n'"
            ]
          },
          "execution_count": 5,
          "metadata": {},
          "output_type": "execute_result"
        }
      ],
      "source": [
        "'''\n",
        "image_dog = cv2.imread('/home/itachi/Documents/Gravitas/Testing Data/Coast/Coast-Test (1).jpeg')\n",
        "image = cv2.imread(df[\"Path\"][i + adder])\n",
        "if mode:\n",
        "    image = cv.cvtColor(image, cv.COLOR_RGB2BGR)\n",
        "\n",
        "plt.figure(figsize=(25,25))\n",
        "plt.imshow(image)\n",
        "plt.show()\n",
        "'''"
      ]
    },
    {
      "cell_type": "code",
      "execution_count": 6,
      "metadata": {
        "id": "BOdODpkFxm46"
      },
      "outputs": [],
      "source": [
        "train_datagen = ImageDataGenerator(zoom_range=0.15,width_shift_range=0.2,height_shift_range=0.2,shear_range=0.15)\n",
        "test_datagen = ImageDataGenerator(zoom_range=0.15,width_shift_range=0.2,height_shift_range=0.2,shear_range=0.15)"
      ]
    },
    {
      "cell_type": "code",
      "execution_count": 7,
      "metadata": {
        "colab": {
          "base_uri": "https://localhost:8080/"
        },
        "id": "3O_EhpHmxm73",
        "outputId": "ca648afc-5667-406f-ba9a-7a79d4b355e7"
      },
      "outputs": [
        {
          "name": "stdout",
          "output_type": "stream",
          "text": [
            "Found 10000 images belonging to 5 classes.\n",
            "Found 500 images belonging to 5 classes.\n"
          ]
        }
      ],
      "source": [
        "train_generator = train_datagen.flow_from_directory(train_path)\n",
        "test_generator = test_datagen.flow_from_directory(test_path)"
      ]
    },
    {
      "cell_type": "code",
      "execution_count": 8,
      "metadata": {
        "id": "OECINYE5xxqL"
      },
      "outputs": [],
      "source": [
        "def identity_block(X, f, filters, stage, block):\n",
        "   \n",
        "    conv_name_base = 'res' + str(stage) + block + '_branch'\n",
        "    bn_name_base = 'bn' + str(stage) + block + '_branch'\n",
        "    F1, F2, F3 = filters\n",
        "\n",
        "    X_shortcut = X\n",
        "   \n",
        "    X = Conv2D(filters=F1, kernel_size=(1, 1), strides=(1, 1), padding='valid', name=conv_name_base + '2a', kernel_initializer=glorot_uniform(seed=0))(X)\n",
        "    X = BatchNormalization(axis=3, name=bn_name_base + '2a')(X)\n",
        "    X = Activation('relu')(X)\n",
        "\n",
        "    X = Conv2D(filters=F2, kernel_size=(f, f), strides=(1, 1), padding='same', name=conv_name_base + '2b', kernel_initializer=glorot_uniform(seed=0))(X)\n",
        "    X = BatchNormalization(axis=3, name=bn_name_base + '2b')(X)\n",
        "    X = Activation('relu')(X)\n",
        "\n",
        "    X = Conv2D(filters=F3, kernel_size=(1, 1), strides=(1, 1), padding='valid', name=conv_name_base + '2c', kernel_initializer=glorot_uniform(seed=0))(X)\n",
        "    X = BatchNormalization(axis=3, name=bn_name_base + '2c')(X)\n",
        "\n",
        "    X = Add()([X, X_shortcut])# SKIP Connection\n",
        "    X = Activation('relu')(X)\n",
        "\n",
        "    return X"
      ]
    },
    {
      "cell_type": "code",
      "execution_count": 9,
      "metadata": {
        "id": "U6NW7FHKxxtv"
      },
      "outputs": [],
      "source": [
        "def convolutional_block(X, f, filters, stage, block, s=2):\n",
        "   \n",
        "    conv_name_base = 'res' + str(stage) + block + '_branch'\n",
        "    bn_name_base = 'bn' + str(stage) + block + '_branch'\n",
        "\n",
        "    F1, F2, F3 = filters\n",
        "\n",
        "    X_shortcut = X\n",
        "\n",
        "    X = Conv2D(filters=F1, kernel_size=(1, 1), strides=(s, s), padding='valid', name=conv_name_base + '2a', kernel_initializer=glorot_uniform(seed=0))(X)\n",
        "    X = BatchNormalization(axis=3, name=bn_name_base + '2a')(X)\n",
        "    X = Activation('relu')(X)\n",
        "\n",
        "    X = Conv2D(filters=F2, kernel_size=(f, f), strides=(1, 1), padding='same', name=conv_name_base + '2b', kernel_initializer=glorot_uniform(seed=0))(X)\n",
        "    X = BatchNormalization(axis=3, name=bn_name_base + '2b')(X)\n",
        "    X = Activation('relu')(X)\n",
        "\n",
        "    X = Conv2D(filters=F3, kernel_size=(1, 1), strides=(1, 1), padding='valid', name=conv_name_base + '2c', kernel_initializer=glorot_uniform(seed=0))(X)\n",
        "    X = BatchNormalization(axis=3, name=bn_name_base + '2c')(X)\n",
        "\n",
        "    X_shortcut = Conv2D(filters=F3, kernel_size=(1, 1), strides=(s, s), padding='valid', name=conv_name_base + '1', kernel_initializer=glorot_uniform(seed=0))(X_shortcut)\n",
        "    X_shortcut = BatchNormalization(axis=3, name=bn_name_base + '1')(X_shortcut)\n",
        "\n",
        "    X = Add()([X, X_shortcut])\n",
        "    X = Activation('relu')(X)\n",
        "\n",
        "    return X"
      ]
    },
    {
      "cell_type": "code",
      "execution_count": 10,
      "metadata": {
        "id": "73uzwfpRxd1x"
      },
      "outputs": [],
      "source": [
        "def ResNet50(input_shape=(224, 224, 3)):\n",
        "\n",
        "    X_input = Input(input_shape)\n",
        "\n",
        "    X = ZeroPadding2D((3, 3))(X_input)\n",
        "\n",
        "    X = Conv2D(64, (7, 7), strides=(2, 2), name='conv1', kernel_initializer=glorot_uniform(seed=0))(X)\n",
        "    X = BatchNormalization(axis=3, name='bn_conv1')(X)\n",
        "    X = Activation('relu')(X)\n",
        "    X = MaxPooling2D((3, 3), strides=(2, 2))(X)\n",
        "\n",
        "    X = convolutional_block(X, f=3, filters=[64, 64, 256], stage=2, block='a', s=1)\n",
        "    X = identity_block(X, 3, [64, 64, 256], stage=2, block='b')\n",
        "    X = identity_block(X, 3, [64, 64, 256], stage=2, block='c')\n",
        "\n",
        "\n",
        "    X = convolutional_block(X, f=3, filters=[128, 128, 512], stage=3, block='a', s=2)\n",
        "    X = identity_block(X, 3, [128, 128, 512], stage=3, block='b')\n",
        "    X = identity_block(X, 3, [128, 128, 512], stage=3, block='c')\n",
        "    X = identity_block(X, 3, [128, 128, 512], stage=3, block='d')\n",
        "\n",
        "    X = convolutional_block(X, f=3, filters=[256, 256, 1024], stage=4, block='a', s=2)\n",
        "    X = identity_block(X, 3, [256, 256, 1024], stage=4, block='b')\n",
        "    X = identity_block(X, 3, [256, 256, 1024], stage=4, block='c')\n",
        "    X = identity_block(X, 3, [256, 256, 1024], stage=4, block='d')\n",
        "    X = identity_block(X, 3, [256, 256, 1024], stage=4, block='e')\n",
        "    X = identity_block(X, 3, [256, 256, 1024], stage=4, block='f')\n",
        "\n",
        "    X = X = convolutional_block(X, f=3, filters=[512, 512, 2048], stage=5, block='a', s=2)\n",
        "    X = identity_block(X, 3, [512, 512, 2048], stage=5, block='b')\n",
        "    X = identity_block(X, 3, [512, 512, 2048], stage=5, block='c')\n",
        "\n",
        "    X = AveragePooling2D(pool_size=(2, 2), padding='same')(X)\n",
        "    \n",
        "    model = Model(inputs=X_input, outputs=X, name='ResNet50')\n",
        "\n",
        "    return model"
      ]
    },
    {
      "cell_type": "code",
      "execution_count": 11,
      "metadata": {
        "id": "VILu2ehwBnMK"
      },
      "outputs": [
        {
          "name": "stderr",
          "output_type": "stream",
          "text": [
            "2023-09-19 18:15:22.967956: I tensorflow/compiler/xla/stream_executor/cuda/cuda_gpu_executor.cc:995] successful NUMA node read from SysFS had negative value (-1), but there must be at least one NUMA node, so returning NUMA node zero. See more at https://github.com/torvalds/linux/blob/v6.0/Documentation/ABI/testing/sysfs-bus-pci#L344-L355\n",
            "2023-09-19 18:15:22.968347: I tensorflow/compiler/xla/stream_executor/cuda/cuda_gpu_executor.cc:995] successful NUMA node read from SysFS had negative value (-1), but there must be at least one NUMA node, so returning NUMA node zero. See more at https://github.com/torvalds/linux/blob/v6.0/Documentation/ABI/testing/sysfs-bus-pci#L344-L355\n",
            "2023-09-19 18:15:22.968623: I tensorflow/compiler/xla/stream_executor/cuda/cuda_gpu_executor.cc:995] successful NUMA node read from SysFS had negative value (-1), but there must be at least one NUMA node, so returning NUMA node zero. See more at https://github.com/torvalds/linux/blob/v6.0/Documentation/ABI/testing/sysfs-bus-pci#L344-L355\n",
            "2023-09-19 18:15:23.021603: I tensorflow/compiler/xla/stream_executor/cuda/cuda_gpu_executor.cc:995] successful NUMA node read from SysFS had negative value (-1), but there must be at least one NUMA node, so returning NUMA node zero. See more at https://github.com/torvalds/linux/blob/v6.0/Documentation/ABI/testing/sysfs-bus-pci#L344-L355\n",
            "2023-09-19 18:15:23.021758: I tensorflow/compiler/xla/stream_executor/cuda/cuda_gpu_executor.cc:995] successful NUMA node read from SysFS had negative value (-1), but there must be at least one NUMA node, so returning NUMA node zero. See more at https://github.com/torvalds/linux/blob/v6.0/Documentation/ABI/testing/sysfs-bus-pci#L344-L355\n",
            "2023-09-19 18:15:23.021861: I tensorflow/compiler/xla/stream_executor/cuda/cuda_gpu_executor.cc:995] successful NUMA node read from SysFS had negative value (-1), but there must be at least one NUMA node, so returning NUMA node zero. See more at https://github.com/torvalds/linux/blob/v6.0/Documentation/ABI/testing/sysfs-bus-pci#L344-L355\n",
            "2023-09-19 18:15:23.021953: I tensorflow/core/common_runtime/gpu/gpu_device.cc:1639] Created device /job:localhost/replica:0/task:0/device:GPU:0 with 2284 MB memory:  -> device: 0, name: NVIDIA GeForce RTX 3050 Laptop GPU, pci bus id: 0000:01:00.0, compute capability: 8.6\n"
          ]
        }
      ],
      "source": [
        "base_model = ResNet50(input_shape=(224, 224, 3))"
      ]
    },
    {
      "cell_type": "code",
      "execution_count": 12,
      "metadata": {
        "id": "_I5zUJVxxd8a"
      },
      "outputs": [],
      "source": [
        "headModel = base_model.output\n",
        "headModel = Flatten()(headModel)\n",
        "headModel= Dense(256, activation='relu', name='fc1',kernel_initializer=glorot_uniform(seed=0))(headModel)\n",
        "headModel= Dense(128, activation='relu', name='fc2',kernel_initializer=glorot_uniform(seed=0))(headModel)\n",
        "headModel = Dense( 5,activation='sigmoid', name='fc3',kernel_initializer=glorot_uniform(seed=0))(headModel)"
      ]
    },
    {
      "cell_type": "code",
      "execution_count": 13,
      "metadata": {
        "id": "M2CPDtk9xd_z"
      },
      "outputs": [],
      "source": [
        "model = Model(inputs=base_model.input, outputs=headModel)"
      ]
    },
    {
      "cell_type": "code",
      "execution_count": 14,
      "metadata": {
        "colab": {
          "base_uri": "https://localhost:8080/"
        },
        "id": "U2x__RJ9xeGf",
        "outputId": "0d9ead34-d31e-47db-e879-f3e68b3c6944"
      },
      "outputs": [
        {
          "name": "stdout",
          "output_type": "stream",
          "text": [
            "Model: \"model\"\n",
            "__________________________________________________________________________________________________\n",
            " Layer (type)                Output Shape                 Param #   Connected to                  \n",
            "==================================================================================================\n",
            " input_1 (InputLayer)        [(None, 224, 224, 3)]        0         []                            \n",
            "                                                                                                  \n",
            " zero_padding2d (ZeroPaddin  (None, 230, 230, 3)          0         ['input_1[0][0]']             \n",
            " g2D)                                                                                             \n",
            "                                                                                                  \n",
            " conv1 (Conv2D)              (None, 112, 112, 64)         9472      ['zero_padding2d[0][0]']      \n",
            "                                                                                                  \n",
            " bn_conv1 (BatchNormalizati  (None, 112, 112, 64)         256       ['conv1[0][0]']               \n",
            " on)                                                                                              \n",
            "                                                                                                  \n",
            " activation (Activation)     (None, 112, 112, 64)         0         ['bn_conv1[0][0]']            \n",
            "                                                                                                  \n",
            " max_pooling2d (MaxPooling2  (None, 55, 55, 64)           0         ['activation[0][0]']          \n",
            " D)                                                                                               \n",
            "                                                                                                  \n",
            " res2a_branch2a (Conv2D)     (None, 55, 55, 64)           4160      ['max_pooling2d[0][0]']       \n",
            "                                                                                                  \n",
            " bn2a_branch2a (BatchNormal  (None, 55, 55, 64)           256       ['res2a_branch2a[0][0]']      \n",
            " ization)                                                                                         \n",
            "                                                                                                  \n",
            " activation_1 (Activation)   (None, 55, 55, 64)           0         ['bn2a_branch2a[0][0]']       \n",
            "                                                                                                  \n",
            " res2a_branch2b (Conv2D)     (None, 55, 55, 64)           36928     ['activation_1[0][0]']        \n",
            "                                                                                                  \n",
            " bn2a_branch2b (BatchNormal  (None, 55, 55, 64)           256       ['res2a_branch2b[0][0]']      \n",
            " ization)                                                                                         \n",
            "                                                                                                  \n",
            " activation_2 (Activation)   (None, 55, 55, 64)           0         ['bn2a_branch2b[0][0]']       \n",
            "                                                                                                  \n",
            " res2a_branch2c (Conv2D)     (None, 55, 55, 256)          16640     ['activation_2[0][0]']        \n",
            "                                                                                                  \n",
            " res2a_branch1 (Conv2D)      (None, 55, 55, 256)          16640     ['max_pooling2d[0][0]']       \n",
            "                                                                                                  \n",
            " bn2a_branch2c (BatchNormal  (None, 55, 55, 256)          1024      ['res2a_branch2c[0][0]']      \n",
            " ization)                                                                                         \n",
            "                                                                                                  \n",
            " bn2a_branch1 (BatchNormali  (None, 55, 55, 256)          1024      ['res2a_branch1[0][0]']       \n",
            " zation)                                                                                          \n",
            "                                                                                                  \n",
            " add (Add)                   (None, 55, 55, 256)          0         ['bn2a_branch2c[0][0]',       \n",
            "                                                                     'bn2a_branch1[0][0]']        \n",
            "                                                                                                  \n",
            " activation_3 (Activation)   (None, 55, 55, 256)          0         ['add[0][0]']                 \n",
            "                                                                                                  \n",
            " res2b_branch2a (Conv2D)     (None, 55, 55, 64)           16448     ['activation_3[0][0]']        \n",
            "                                                                                                  \n",
            " bn2b_branch2a (BatchNormal  (None, 55, 55, 64)           256       ['res2b_branch2a[0][0]']      \n",
            " ization)                                                                                         \n",
            "                                                                                                  \n",
            " activation_4 (Activation)   (None, 55, 55, 64)           0         ['bn2b_branch2a[0][0]']       \n",
            "                                                                                                  \n",
            " res2b_branch2b (Conv2D)     (None, 55, 55, 64)           36928     ['activation_4[0][0]']        \n",
            "                                                                                                  \n",
            " bn2b_branch2b (BatchNormal  (None, 55, 55, 64)           256       ['res2b_branch2b[0][0]']      \n",
            " ization)                                                                                         \n",
            "                                                                                                  \n",
            " activation_5 (Activation)   (None, 55, 55, 64)           0         ['bn2b_branch2b[0][0]']       \n",
            "                                                                                                  \n",
            " res2b_branch2c (Conv2D)     (None, 55, 55, 256)          16640     ['activation_5[0][0]']        \n",
            "                                                                                                  \n",
            " bn2b_branch2c (BatchNormal  (None, 55, 55, 256)          1024      ['res2b_branch2c[0][0]']      \n",
            " ization)                                                                                         \n",
            "                                                                                                  \n",
            " add_1 (Add)                 (None, 55, 55, 256)          0         ['bn2b_branch2c[0][0]',       \n",
            "                                                                     'activation_3[0][0]']        \n",
            "                                                                                                  \n",
            " activation_6 (Activation)   (None, 55, 55, 256)          0         ['add_1[0][0]']               \n",
            "                                                                                                  \n",
            " res2c_branch2a (Conv2D)     (None, 55, 55, 64)           16448     ['activation_6[0][0]']        \n",
            "                                                                                                  \n",
            " bn2c_branch2a (BatchNormal  (None, 55, 55, 64)           256       ['res2c_branch2a[0][0]']      \n",
            " ization)                                                                                         \n",
            "                                                                                                  \n",
            " activation_7 (Activation)   (None, 55, 55, 64)           0         ['bn2c_branch2a[0][0]']       \n",
            "                                                                                                  \n",
            " res2c_branch2b (Conv2D)     (None, 55, 55, 64)           36928     ['activation_7[0][0]']        \n",
            "                                                                                                  \n",
            " bn2c_branch2b (BatchNormal  (None, 55, 55, 64)           256       ['res2c_branch2b[0][0]']      \n",
            " ization)                                                                                         \n",
            "                                                                                                  \n",
            " activation_8 (Activation)   (None, 55, 55, 64)           0         ['bn2c_branch2b[0][0]']       \n",
            "                                                                                                  \n",
            " res2c_branch2c (Conv2D)     (None, 55, 55, 256)          16640     ['activation_8[0][0]']        \n",
            "                                                                                                  \n",
            " bn2c_branch2c (BatchNormal  (None, 55, 55, 256)          1024      ['res2c_branch2c[0][0]']      \n",
            " ization)                                                                                         \n",
            "                                                                                                  \n",
            " add_2 (Add)                 (None, 55, 55, 256)          0         ['bn2c_branch2c[0][0]',       \n",
            "                                                                     'activation_6[0][0]']        \n",
            "                                                                                                  \n",
            " activation_9 (Activation)   (None, 55, 55, 256)          0         ['add_2[0][0]']               \n",
            "                                                                                                  \n",
            " res3a_branch2a (Conv2D)     (None, 28, 28, 128)          32896     ['activation_9[0][0]']        \n",
            "                                                                                                  \n",
            " bn3a_branch2a (BatchNormal  (None, 28, 28, 128)          512       ['res3a_branch2a[0][0]']      \n",
            " ization)                                                                                         \n",
            "                                                                                                  \n",
            " activation_10 (Activation)  (None, 28, 28, 128)          0         ['bn3a_branch2a[0][0]']       \n",
            "                                                                                                  \n",
            " res3a_branch2b (Conv2D)     (None, 28, 28, 128)          147584    ['activation_10[0][0]']       \n",
            "                                                                                                  \n",
            " bn3a_branch2b (BatchNormal  (None, 28, 28, 128)          512       ['res3a_branch2b[0][0]']      \n",
            " ization)                                                                                         \n",
            "                                                                                                  \n",
            " activation_11 (Activation)  (None, 28, 28, 128)          0         ['bn3a_branch2b[0][0]']       \n",
            "                                                                                                  \n",
            " res3a_branch2c (Conv2D)     (None, 28, 28, 512)          66048     ['activation_11[0][0]']       \n",
            "                                                                                                  \n",
            " res3a_branch1 (Conv2D)      (None, 28, 28, 512)          131584    ['activation_9[0][0]']        \n",
            "                                                                                                  \n",
            " bn3a_branch2c (BatchNormal  (None, 28, 28, 512)          2048      ['res3a_branch2c[0][0]']      \n",
            " ization)                                                                                         \n",
            "                                                                                                  \n",
            " bn3a_branch1 (BatchNormali  (None, 28, 28, 512)          2048      ['res3a_branch1[0][0]']       \n",
            " zation)                                                                                          \n",
            "                                                                                                  \n",
            " add_3 (Add)                 (None, 28, 28, 512)          0         ['bn3a_branch2c[0][0]',       \n",
            "                                                                     'bn3a_branch1[0][0]']        \n",
            "                                                                                                  \n",
            " activation_12 (Activation)  (None, 28, 28, 512)          0         ['add_3[0][0]']               \n",
            "                                                                                                  \n",
            " res3b_branch2a (Conv2D)     (None, 28, 28, 128)          65664     ['activation_12[0][0]']       \n",
            "                                                                                                  \n",
            " bn3b_branch2a (BatchNormal  (None, 28, 28, 128)          512       ['res3b_branch2a[0][0]']      \n",
            " ization)                                                                                         \n",
            "                                                                                                  \n",
            " activation_13 (Activation)  (None, 28, 28, 128)          0         ['bn3b_branch2a[0][0]']       \n",
            "                                                                                                  \n",
            " res3b_branch2b (Conv2D)     (None, 28, 28, 128)          147584    ['activation_13[0][0]']       \n",
            "                                                                                                  \n",
            " bn3b_branch2b (BatchNormal  (None, 28, 28, 128)          512       ['res3b_branch2b[0][0]']      \n",
            " ization)                                                                                         \n",
            "                                                                                                  \n",
            " activation_14 (Activation)  (None, 28, 28, 128)          0         ['bn3b_branch2b[0][0]']       \n",
            "                                                                                                  \n",
            " res3b_branch2c (Conv2D)     (None, 28, 28, 512)          66048     ['activation_14[0][0]']       \n",
            "                                                                                                  \n",
            " bn3b_branch2c (BatchNormal  (None, 28, 28, 512)          2048      ['res3b_branch2c[0][0]']      \n",
            " ization)                                                                                         \n",
            "                                                                                                  \n",
            " add_4 (Add)                 (None, 28, 28, 512)          0         ['bn3b_branch2c[0][0]',       \n",
            "                                                                     'activation_12[0][0]']       \n",
            "                                                                                                  \n",
            " activation_15 (Activation)  (None, 28, 28, 512)          0         ['add_4[0][0]']               \n",
            "                                                                                                  \n",
            " res3c_branch2a (Conv2D)     (None, 28, 28, 128)          65664     ['activation_15[0][0]']       \n",
            "                                                                                                  \n",
            " bn3c_branch2a (BatchNormal  (None, 28, 28, 128)          512       ['res3c_branch2a[0][0]']      \n",
            " ization)                                                                                         \n",
            "                                                                                                  \n",
            " activation_16 (Activation)  (None, 28, 28, 128)          0         ['bn3c_branch2a[0][0]']       \n",
            "                                                                                                  \n",
            " res3c_branch2b (Conv2D)     (None, 28, 28, 128)          147584    ['activation_16[0][0]']       \n",
            "                                                                                                  \n",
            " bn3c_branch2b (BatchNormal  (None, 28, 28, 128)          512       ['res3c_branch2b[0][0]']      \n",
            " ization)                                                                                         \n",
            "                                                                                                  \n",
            " activation_17 (Activation)  (None, 28, 28, 128)          0         ['bn3c_branch2b[0][0]']       \n",
            "                                                                                                  \n",
            " res3c_branch2c (Conv2D)     (None, 28, 28, 512)          66048     ['activation_17[0][0]']       \n",
            "                                                                                                  \n",
            " bn3c_branch2c (BatchNormal  (None, 28, 28, 512)          2048      ['res3c_branch2c[0][0]']      \n",
            " ization)                                                                                         \n",
            "                                                                                                  \n",
            " add_5 (Add)                 (None, 28, 28, 512)          0         ['bn3c_branch2c[0][0]',       \n",
            "                                                                     'activation_15[0][0]']       \n",
            "                                                                                                  \n",
            " activation_18 (Activation)  (None, 28, 28, 512)          0         ['add_5[0][0]']               \n",
            "                                                                                                  \n",
            " res3d_branch2a (Conv2D)     (None, 28, 28, 128)          65664     ['activation_18[0][0]']       \n",
            "                                                                                                  \n",
            " bn3d_branch2a (BatchNormal  (None, 28, 28, 128)          512       ['res3d_branch2a[0][0]']      \n",
            " ization)                                                                                         \n",
            "                                                                                                  \n",
            " activation_19 (Activation)  (None, 28, 28, 128)          0         ['bn3d_branch2a[0][0]']       \n",
            "                                                                                                  \n",
            " res3d_branch2b (Conv2D)     (None, 28, 28, 128)          147584    ['activation_19[0][0]']       \n",
            "                                                                                                  \n",
            " bn3d_branch2b (BatchNormal  (None, 28, 28, 128)          512       ['res3d_branch2b[0][0]']      \n",
            " ization)                                                                                         \n",
            "                                                                                                  \n",
            " activation_20 (Activation)  (None, 28, 28, 128)          0         ['bn3d_branch2b[0][0]']       \n",
            "                                                                                                  \n",
            " res3d_branch2c (Conv2D)     (None, 28, 28, 512)          66048     ['activation_20[0][0]']       \n",
            "                                                                                                  \n",
            " bn3d_branch2c (BatchNormal  (None, 28, 28, 512)          2048      ['res3d_branch2c[0][0]']      \n",
            " ization)                                                                                         \n",
            "                                                                                                  \n",
            " add_6 (Add)                 (None, 28, 28, 512)          0         ['bn3d_branch2c[0][0]',       \n",
            "                                                                     'activation_18[0][0]']       \n",
            "                                                                                                  \n",
            " activation_21 (Activation)  (None, 28, 28, 512)          0         ['add_6[0][0]']               \n",
            "                                                                                                  \n",
            " res4a_branch2a (Conv2D)     (None, 14, 14, 256)          131328    ['activation_21[0][0]']       \n",
            "                                                                                                  \n",
            " bn4a_branch2a (BatchNormal  (None, 14, 14, 256)          1024      ['res4a_branch2a[0][0]']      \n",
            " ization)                                                                                         \n",
            "                                                                                                  \n",
            " activation_22 (Activation)  (None, 14, 14, 256)          0         ['bn4a_branch2a[0][0]']       \n",
            "                                                                                                  \n",
            " res4a_branch2b (Conv2D)     (None, 14, 14, 256)          590080    ['activation_22[0][0]']       \n",
            "                                                                                                  \n",
            " bn4a_branch2b (BatchNormal  (None, 14, 14, 256)          1024      ['res4a_branch2b[0][0]']      \n",
            " ization)                                                                                         \n",
            "                                                                                                  \n",
            " activation_23 (Activation)  (None, 14, 14, 256)          0         ['bn4a_branch2b[0][0]']       \n",
            "                                                                                                  \n",
            " res4a_branch2c (Conv2D)     (None, 14, 14, 1024)         263168    ['activation_23[0][0]']       \n",
            "                                                                                                  \n",
            " res4a_branch1 (Conv2D)      (None, 14, 14, 1024)         525312    ['activation_21[0][0]']       \n",
            "                                                                                                  \n",
            " bn4a_branch2c (BatchNormal  (None, 14, 14, 1024)         4096      ['res4a_branch2c[0][0]']      \n",
            " ization)                                                                                         \n",
            "                                                                                                  \n",
            " bn4a_branch1 (BatchNormali  (None, 14, 14, 1024)         4096      ['res4a_branch1[0][0]']       \n",
            " zation)                                                                                          \n",
            "                                                                                                  \n",
            " add_7 (Add)                 (None, 14, 14, 1024)         0         ['bn4a_branch2c[0][0]',       \n",
            "                                                                     'bn4a_branch1[0][0]']        \n",
            "                                                                                                  \n",
            " activation_24 (Activation)  (None, 14, 14, 1024)         0         ['add_7[0][0]']               \n",
            "                                                                                                  \n",
            " res4b_branch2a (Conv2D)     (None, 14, 14, 256)          262400    ['activation_24[0][0]']       \n",
            "                                                                                                  \n",
            " bn4b_branch2a (BatchNormal  (None, 14, 14, 256)          1024      ['res4b_branch2a[0][0]']      \n",
            " ization)                                                                                         \n",
            "                                                                                                  \n",
            " activation_25 (Activation)  (None, 14, 14, 256)          0         ['bn4b_branch2a[0][0]']       \n",
            "                                                                                                  \n",
            " res4b_branch2b (Conv2D)     (None, 14, 14, 256)          590080    ['activation_25[0][0]']       \n",
            "                                                                                                  \n",
            " bn4b_branch2b (BatchNormal  (None, 14, 14, 256)          1024      ['res4b_branch2b[0][0]']      \n",
            " ization)                                                                                         \n",
            "                                                                                                  \n",
            " activation_26 (Activation)  (None, 14, 14, 256)          0         ['bn4b_branch2b[0][0]']       \n",
            "                                                                                                  \n",
            " res4b_branch2c (Conv2D)     (None, 14, 14, 1024)         263168    ['activation_26[0][0]']       \n",
            "                                                                                                  \n",
            " bn4b_branch2c (BatchNormal  (None, 14, 14, 1024)         4096      ['res4b_branch2c[0][0]']      \n",
            " ization)                                                                                         \n",
            "                                                                                                  \n",
            " add_8 (Add)                 (None, 14, 14, 1024)         0         ['bn4b_branch2c[0][0]',       \n",
            "                                                                     'activation_24[0][0]']       \n",
            "                                                                                                  \n",
            " activation_27 (Activation)  (None, 14, 14, 1024)         0         ['add_8[0][0]']               \n",
            "                                                                                                  \n",
            " res4c_branch2a (Conv2D)     (None, 14, 14, 256)          262400    ['activation_27[0][0]']       \n",
            "                                                                                                  \n",
            " bn4c_branch2a (BatchNormal  (None, 14, 14, 256)          1024      ['res4c_branch2a[0][0]']      \n",
            " ization)                                                                                         \n",
            "                                                                                                  \n",
            " activation_28 (Activation)  (None, 14, 14, 256)          0         ['bn4c_branch2a[0][0]']       \n",
            "                                                                                                  \n",
            " res4c_branch2b (Conv2D)     (None, 14, 14, 256)          590080    ['activation_28[0][0]']       \n",
            "                                                                                                  \n",
            " bn4c_branch2b (BatchNormal  (None, 14, 14, 256)          1024      ['res4c_branch2b[0][0]']      \n",
            " ization)                                                                                         \n",
            "                                                                                                  \n",
            " activation_29 (Activation)  (None, 14, 14, 256)          0         ['bn4c_branch2b[0][0]']       \n",
            "                                                                                                  \n",
            " res4c_branch2c (Conv2D)     (None, 14, 14, 1024)         263168    ['activation_29[0][0]']       \n",
            "                                                                                                  \n",
            " bn4c_branch2c (BatchNormal  (None, 14, 14, 1024)         4096      ['res4c_branch2c[0][0]']      \n",
            " ization)                                                                                         \n",
            "                                                                                                  \n",
            " add_9 (Add)                 (None, 14, 14, 1024)         0         ['bn4c_branch2c[0][0]',       \n",
            "                                                                     'activation_27[0][0]']       \n",
            "                                                                                                  \n",
            " activation_30 (Activation)  (None, 14, 14, 1024)         0         ['add_9[0][0]']               \n",
            "                                                                                                  \n",
            " res4d_branch2a (Conv2D)     (None, 14, 14, 256)          262400    ['activation_30[0][0]']       \n",
            "                                                                                                  \n",
            " bn4d_branch2a (BatchNormal  (None, 14, 14, 256)          1024      ['res4d_branch2a[0][0]']      \n",
            " ization)                                                                                         \n",
            "                                                                                                  \n",
            " activation_31 (Activation)  (None, 14, 14, 256)          0         ['bn4d_branch2a[0][0]']       \n",
            "                                                                                                  \n",
            " res4d_branch2b (Conv2D)     (None, 14, 14, 256)          590080    ['activation_31[0][0]']       \n",
            "                                                                                                  \n",
            " bn4d_branch2b (BatchNormal  (None, 14, 14, 256)          1024      ['res4d_branch2b[0][0]']      \n",
            " ization)                                                                                         \n",
            "                                                                                                  \n",
            " activation_32 (Activation)  (None, 14, 14, 256)          0         ['bn4d_branch2b[0][0]']       \n",
            "                                                                                                  \n",
            " res4d_branch2c (Conv2D)     (None, 14, 14, 1024)         263168    ['activation_32[0][0]']       \n",
            "                                                                                                  \n",
            " bn4d_branch2c (BatchNormal  (None, 14, 14, 1024)         4096      ['res4d_branch2c[0][0]']      \n",
            " ization)                                                                                         \n",
            "                                                                                                  \n",
            " add_10 (Add)                (None, 14, 14, 1024)         0         ['bn4d_branch2c[0][0]',       \n",
            "                                                                     'activation_30[0][0]']       \n",
            "                                                                                                  \n",
            " activation_33 (Activation)  (None, 14, 14, 1024)         0         ['add_10[0][0]']              \n",
            "                                                                                                  \n",
            " res4e_branch2a (Conv2D)     (None, 14, 14, 256)          262400    ['activation_33[0][0]']       \n",
            "                                                                                                  \n",
            " bn4e_branch2a (BatchNormal  (None, 14, 14, 256)          1024      ['res4e_branch2a[0][0]']      \n",
            " ization)                                                                                         \n",
            "                                                                                                  \n",
            " activation_34 (Activation)  (None, 14, 14, 256)          0         ['bn4e_branch2a[0][0]']       \n",
            "                                                                                                  \n",
            " res4e_branch2b (Conv2D)     (None, 14, 14, 256)          590080    ['activation_34[0][0]']       \n",
            "                                                                                                  \n",
            " bn4e_branch2b (BatchNormal  (None, 14, 14, 256)          1024      ['res4e_branch2b[0][0]']      \n",
            " ization)                                                                                         \n",
            "                                                                                                  \n",
            " activation_35 (Activation)  (None, 14, 14, 256)          0         ['bn4e_branch2b[0][0]']       \n",
            "                                                                                                  \n",
            " res4e_branch2c (Conv2D)     (None, 14, 14, 1024)         263168    ['activation_35[0][0]']       \n",
            "                                                                                                  \n",
            " bn4e_branch2c (BatchNormal  (None, 14, 14, 1024)         4096      ['res4e_branch2c[0][0]']      \n",
            " ization)                                                                                         \n",
            "                                                                                                  \n",
            " add_11 (Add)                (None, 14, 14, 1024)         0         ['bn4e_branch2c[0][0]',       \n",
            "                                                                     'activation_33[0][0]']       \n",
            "                                                                                                  \n",
            " activation_36 (Activation)  (None, 14, 14, 1024)         0         ['add_11[0][0]']              \n",
            "                                                                                                  \n",
            " res4f_branch2a (Conv2D)     (None, 14, 14, 256)          262400    ['activation_36[0][0]']       \n",
            "                                                                                                  \n",
            " bn4f_branch2a (BatchNormal  (None, 14, 14, 256)          1024      ['res4f_branch2a[0][0]']      \n",
            " ization)                                                                                         \n",
            "                                                                                                  \n",
            " activation_37 (Activation)  (None, 14, 14, 256)          0         ['bn4f_branch2a[0][0]']       \n",
            "                                                                                                  \n",
            " res4f_branch2b (Conv2D)     (None, 14, 14, 256)          590080    ['activation_37[0][0]']       \n",
            "                                                                                                  \n",
            " bn4f_branch2b (BatchNormal  (None, 14, 14, 256)          1024      ['res4f_branch2b[0][0]']      \n",
            " ization)                                                                                         \n",
            "                                                                                                  \n",
            " activation_38 (Activation)  (None, 14, 14, 256)          0         ['bn4f_branch2b[0][0]']       \n",
            "                                                                                                  \n",
            " res4f_branch2c (Conv2D)     (None, 14, 14, 1024)         263168    ['activation_38[0][0]']       \n",
            "                                                                                                  \n",
            " bn4f_branch2c (BatchNormal  (None, 14, 14, 1024)         4096      ['res4f_branch2c[0][0]']      \n",
            " ization)                                                                                         \n",
            "                                                                                                  \n",
            " add_12 (Add)                (None, 14, 14, 1024)         0         ['bn4f_branch2c[0][0]',       \n",
            "                                                                     'activation_36[0][0]']       \n",
            "                                                                                                  \n",
            " activation_39 (Activation)  (None, 14, 14, 1024)         0         ['add_12[0][0]']              \n",
            "                                                                                                  \n",
            " res5a_branch2a (Conv2D)     (None, 7, 7, 512)            524800    ['activation_39[0][0]']       \n",
            "                                                                                                  \n",
            " bn5a_branch2a (BatchNormal  (None, 7, 7, 512)            2048      ['res5a_branch2a[0][0]']      \n",
            " ization)                                                                                         \n",
            "                                                                                                  \n",
            " activation_40 (Activation)  (None, 7, 7, 512)            0         ['bn5a_branch2a[0][0]']       \n",
            "                                                                                                  \n",
            " res5a_branch2b (Conv2D)     (None, 7, 7, 512)            2359808   ['activation_40[0][0]']       \n",
            "                                                                                                  \n",
            " bn5a_branch2b (BatchNormal  (None, 7, 7, 512)            2048      ['res5a_branch2b[0][0]']      \n",
            " ization)                                                                                         \n",
            "                                                                                                  \n",
            " activation_41 (Activation)  (None, 7, 7, 512)            0         ['bn5a_branch2b[0][0]']       \n",
            "                                                                                                  \n",
            " res5a_branch2c (Conv2D)     (None, 7, 7, 2048)           1050624   ['activation_41[0][0]']       \n",
            "                                                                                                  \n",
            " res5a_branch1 (Conv2D)      (None, 7, 7, 2048)           2099200   ['activation_39[0][0]']       \n",
            "                                                                                                  \n",
            " bn5a_branch2c (BatchNormal  (None, 7, 7, 2048)           8192      ['res5a_branch2c[0][0]']      \n",
            " ization)                                                                                         \n",
            "                                                                                                  \n",
            " bn5a_branch1 (BatchNormali  (None, 7, 7, 2048)           8192      ['res5a_branch1[0][0]']       \n",
            " zation)                                                                                          \n",
            "                                                                                                  \n",
            " add_13 (Add)                (None, 7, 7, 2048)           0         ['bn5a_branch2c[0][0]',       \n",
            "                                                                     'bn5a_branch1[0][0]']        \n",
            "                                                                                                  \n",
            " activation_42 (Activation)  (None, 7, 7, 2048)           0         ['add_13[0][0]']              \n",
            "                                                                                                  \n",
            " res5b_branch2a (Conv2D)     (None, 7, 7, 512)            1049088   ['activation_42[0][0]']       \n",
            "                                                                                                  \n",
            " bn5b_branch2a (BatchNormal  (None, 7, 7, 512)            2048      ['res5b_branch2a[0][0]']      \n",
            " ization)                                                                                         \n",
            "                                                                                                  \n",
            " activation_43 (Activation)  (None, 7, 7, 512)            0         ['bn5b_branch2a[0][0]']       \n",
            "                                                                                                  \n",
            " res5b_branch2b (Conv2D)     (None, 7, 7, 512)            2359808   ['activation_43[0][0]']       \n",
            "                                                                                                  \n",
            " bn5b_branch2b (BatchNormal  (None, 7, 7, 512)            2048      ['res5b_branch2b[0][0]']      \n",
            " ization)                                                                                         \n",
            "                                                                                                  \n",
            " activation_44 (Activation)  (None, 7, 7, 512)            0         ['bn5b_branch2b[0][0]']       \n",
            "                                                                                                  \n",
            " res5b_branch2c (Conv2D)     (None, 7, 7, 2048)           1050624   ['activation_44[0][0]']       \n",
            "                                                                                                  \n",
            " bn5b_branch2c (BatchNormal  (None, 7, 7, 2048)           8192      ['res5b_branch2c[0][0]']      \n",
            " ization)                                                                                         \n",
            "                                                                                                  \n",
            " add_14 (Add)                (None, 7, 7, 2048)           0         ['bn5b_branch2c[0][0]',       \n",
            "                                                                     'activation_42[0][0]']       \n",
            "                                                                                                  \n",
            " activation_45 (Activation)  (None, 7, 7, 2048)           0         ['add_14[0][0]']              \n",
            "                                                                                                  \n",
            " res5c_branch2a (Conv2D)     (None, 7, 7, 512)            1049088   ['activation_45[0][0]']       \n",
            "                                                                                                  \n",
            " bn5c_branch2a (BatchNormal  (None, 7, 7, 512)            2048      ['res5c_branch2a[0][0]']      \n",
            " ization)                                                                                         \n",
            "                                                                                                  \n",
            " activation_46 (Activation)  (None, 7, 7, 512)            0         ['bn5c_branch2a[0][0]']       \n",
            "                                                                                                  \n",
            " res5c_branch2b (Conv2D)     (None, 7, 7, 512)            2359808   ['activation_46[0][0]']       \n",
            "                                                                                                  \n",
            " bn5c_branch2b (BatchNormal  (None, 7, 7, 512)            2048      ['res5c_branch2b[0][0]']      \n",
            " ization)                                                                                         \n",
            "                                                                                                  \n",
            " activation_47 (Activation)  (None, 7, 7, 512)            0         ['bn5c_branch2b[0][0]']       \n",
            "                                                                                                  \n",
            " res5c_branch2c (Conv2D)     (None, 7, 7, 2048)           1050624   ['activation_47[0][0]']       \n",
            "                                                                                                  \n",
            " bn5c_branch2c (BatchNormal  (None, 7, 7, 2048)           8192      ['res5c_branch2c[0][0]']      \n",
            " ization)                                                                                         \n",
            "                                                                                                  \n",
            " add_15 (Add)                (None, 7, 7, 2048)           0         ['bn5c_branch2c[0][0]',       \n",
            "                                                                     'activation_45[0][0]']       \n",
            "                                                                                                  \n",
            " activation_48 (Activation)  (None, 7, 7, 2048)           0         ['add_15[0][0]']              \n",
            "                                                                                                  \n",
            " average_pooling2d (Average  (None, 4, 4, 2048)           0         ['activation_48[0][0]']       \n",
            " Pooling2D)                                                                                       \n",
            "                                                                                                  \n",
            " flatten (Flatten)           (None, 32768)                0         ['average_pooling2d[0][0]']   \n",
            "                                                                                                  \n",
            " fc1 (Dense)                 (None, 256)                  8388864   ['flatten[0][0]']             \n",
            "                                                                                                  \n",
            " fc2 (Dense)                 (None, 128)                  32896     ['fc1[0][0]']                 \n",
            "                                                                                                  \n",
            " fc3 (Dense)                 (None, 5)                    645       ['fc2[0][0]']                 \n",
            "                                                                                                  \n",
            "==================================================================================================\n",
            "Total params: 32010117 (122.11 MB)\n",
            "Trainable params: 31956997 (121.91 MB)\n",
            "Non-trainable params: 53120 (207.50 KB)\n",
            "__________________________________________________________________________________________________\n"
          ]
        }
      ],
      "source": [
        "model.summary()"
      ]
    },
    {
      "cell_type": "code",
      "execution_count": 15,
      "metadata": {
        "id": "wBJKipXixeJV"
      },
      "outputs": [],
      "source": [
        "base_model.load_weights(\"resnet50_weights_tf_dim_ordering_tf_kernels_notop.h5\")"
      ]
    },
    {
      "cell_type": "code",
      "execution_count": 16,
      "metadata": {
        "id": "iy_7lI4CxeML"
      },
      "outputs": [],
      "source": [
        "for layer in base_model.layers:\n",
        "    layer.trainable = False"
      ]
    },
    {
      "cell_type": "code",
      "execution_count": 17,
      "metadata": {
        "colab": {
          "base_uri": "https://localhost:8080/"
        },
        "id": "c3EaraChxePW",
        "outputId": "ef1a428f-e90a-4b3a-8aac-2a44b0efed64"
      },
      "outputs": [
        {
          "name": "stdout",
          "output_type": "stream",
          "text": [
            "<keras.src.engine.input_layer.InputLayer object at 0x7f75d07b8730> False\n",
            "<keras.src.layers.reshaping.zero_padding2d.ZeroPadding2D object at 0x7f75d532b400> False\n",
            "<keras.src.layers.convolutional.conv2d.Conv2D object at 0x7f75d532b250> False\n",
            "<keras.src.layers.normalization.batch_normalization.BatchNormalization object at 0x7f75d532bfa0> False\n",
            "<keras.src.layers.core.activation.Activation object at 0x7f75d5325280> False\n",
            "<keras.src.layers.pooling.max_pooling2d.MaxPooling2D object at 0x7f7658102670> False\n",
            "<keras.src.layers.convolutional.conv2d.Conv2D object at 0x7f75d0a94640> False\n",
            "<keras.src.layers.normalization.batch_normalization.BatchNormalization object at 0x7f75d0a947f0> False\n",
            "<keras.src.layers.core.activation.Activation object at 0x7f75d532b1f0> False\n",
            "<keras.src.layers.convolutional.conv2d.Conv2D object at 0x7f75d0a23d00> False\n",
            "<keras.src.layers.normalization.batch_normalization.BatchNormalization object at 0x7f75d0a2fa00> False\n",
            "<keras.src.layers.core.activation.Activation object at 0x7f75d0a2f280> False\n",
            "<keras.src.layers.convolutional.conv2d.Conv2D object at 0x7f75d0a32280> False\n",
            "<keras.src.layers.convolutional.conv2d.Conv2D object at 0x7f75d0a3f9d0> False\n",
            "<keras.src.layers.normalization.batch_normalization.BatchNormalization object at 0x7f75d0a30a30> False\n",
            "<keras.src.layers.normalization.batch_normalization.BatchNormalization object at 0x7f75d0a41190> False\n",
            "<keras.src.layers.merging.add.Add object at 0x7f75d0a41c10> False\n",
            "<keras.src.layers.core.activation.Activation object at 0x7f75d0a4eb80> False\n",
            "<keras.src.layers.convolutional.conv2d.Conv2D object at 0x7f75d0a53cd0> False\n",
            "<keras.src.layers.normalization.batch_normalization.BatchNormalization object at 0x7f75d0a53d30> False\n",
            "<keras.src.layers.core.activation.Activation object at 0x7f75d0a4ee20> False\n",
            "<keras.src.layers.convolutional.conv2d.Conv2D object at 0x7f75d09e8100> False\n",
            "<keras.src.layers.normalization.batch_normalization.BatchNormalization object at 0x7f75d0a59d60> False\n",
            "<keras.src.layers.core.activation.Activation object at 0x7f75d09e8d90> False\n",
            "<keras.src.layers.convolutional.conv2d.Conv2D object at 0x7f75d09f3130> False\n",
            "<keras.src.layers.normalization.batch_normalization.BatchNormalization object at 0x7f75d09f3b50> False\n",
            "<keras.src.layers.merging.add.Add object at 0x7f75d09f3f40> False\n",
            "<keras.src.layers.core.activation.Activation object at 0x7f75d09f9e80> False\n",
            "<keras.src.layers.convolutional.conv2d.Conv2D object at 0x7f75d0a02e50> False\n",
            "<keras.src.layers.normalization.batch_normalization.BatchNormalization object at 0x7f75d0a02370> False\n",
            "<keras.src.layers.core.activation.Activation object at 0x7f75d0a163d0> False\n",
            "<keras.src.layers.convolutional.conv2d.Conv2D object at 0x7f75d0a16970> False\n",
            "<keras.src.layers.normalization.batch_normalization.BatchNormalization object at 0x7f75d0a10be0> False\n",
            "<keras.src.layers.core.activation.Activation object at 0x7f75d0a19790> False\n",
            "<keras.src.layers.convolutional.conv2d.Conv2D object at 0x7f75d0a19d90> False\n",
            "<keras.src.layers.normalization.batch_normalization.BatchNormalization object at 0x7f75d0a100d0> False\n",
            "<keras.src.layers.merging.add.Add object at 0x7f75d0a16b50> False\n",
            "<keras.src.layers.core.activation.Activation object at 0x7f75d09ae730> False\n",
            "<keras.src.layers.convolutional.conv2d.Conv2D object at 0x7f75d09b67f0> False\n",
            "<keras.src.layers.normalization.batch_normalization.BatchNormalization object at 0x7f75d09bc460> False\n",
            "<keras.src.layers.core.activation.Activation object at 0x7f75d09bc580> False\n",
            "<keras.src.layers.convolutional.conv2d.Conv2D object at 0x7f75d09b6040> False\n",
            "<keras.src.layers.normalization.batch_normalization.BatchNormalization object at 0x7f75d09a7910> False\n",
            "<keras.src.layers.core.activation.Activation object at 0x7f75d0a07130> False\n",
            "<keras.src.layers.convolutional.conv2d.Conv2D object at 0x7f75d0a59b20> False\n",
            "<keras.src.layers.convolutional.conv2d.Conv2D object at 0x7f75d09c6730> False\n",
            "<keras.src.layers.normalization.batch_normalization.BatchNormalization object at 0x7f75d0a3f880> False\n",
            "<keras.src.layers.normalization.batch_normalization.BatchNormalization object at 0x7f75d0a12d90> False\n",
            "<keras.src.layers.merging.add.Add object at 0x7f75d0a12ee0> False\n",
            "<keras.src.layers.core.activation.Activation object at 0x7f75d0a49d90> False\n",
            "<keras.src.layers.convolutional.conv2d.Conv2D object at 0x7f75d09b34c0> False\n",
            "<keras.src.layers.normalization.batch_normalization.BatchNormalization object at 0x7f75d09c9070> False\n",
            "<keras.src.layers.core.activation.Activation object at 0x7f75d09b3ee0> False\n",
            "<keras.src.layers.convolutional.conv2d.Conv2D object at 0x7f75d09cd790> False\n",
            "<keras.src.layers.normalization.batch_normalization.BatchNormalization object at 0x7f75d09d3d60> False\n",
            "<keras.src.layers.core.activation.Activation object at 0x7f75d09d3dc0> False\n",
            "<keras.src.layers.convolutional.conv2d.Conv2D object at 0x7f75d09dc7c0> False\n",
            "<keras.src.layers.normalization.batch_normalization.BatchNormalization object at 0x7f75d0961c70> False\n",
            "<keras.src.layers.merging.add.Add object at 0x7f75d0961d30> False\n",
            "<keras.src.layers.core.activation.Activation object at 0x7f75d096a7f0> False\n",
            "<keras.src.layers.convolutional.conv2d.Conv2D object at 0x7f75d096f9d0> False\n",
            "<keras.src.layers.normalization.batch_normalization.BatchNormalization object at 0x7f75d096faf0> False\n",
            "<keras.src.layers.core.activation.Activation object at 0x7f75d096f280> False\n",
            "<keras.src.layers.convolutional.conv2d.Conv2D object at 0x7f75d097ad60> False\n",
            "<keras.src.layers.normalization.batch_normalization.BatchNormalization object at 0x7f75d097d7f0> False\n",
            "<keras.src.layers.core.activation.Activation object at 0x7f75d097d190> False\n",
            "<keras.src.layers.convolutional.conv2d.Conv2D object at 0x7f75d0983cd0> False\n",
            "<keras.src.layers.normalization.batch_normalization.BatchNormalization object at 0x7f75d0988430> False\n",
            "<keras.src.layers.merging.add.Add object at 0x7f75d0988250> False\n",
            "<keras.src.layers.core.activation.Activation object at 0x7f75d098fca0> False\n",
            "<keras.src.layers.convolutional.conv2d.Conv2D object at 0x7f75d0991f10> False\n",
            "<keras.src.layers.normalization.batch_normalization.BatchNormalization object at 0x7f75d098fd00> False\n",
            "<keras.src.layers.core.activation.Activation object at 0x7f75d0991fd0> False\n",
            "<keras.src.layers.convolutional.conv2d.Conv2D object at 0x7f75d09229d0> False\n",
            "<keras.src.layers.normalization.batch_normalization.BatchNormalization object at 0x7f75d09228b0> False\n",
            "<keras.src.layers.core.activation.Activation object at 0x7f75d0937490> False\n",
            "<keras.src.layers.convolutional.conv2d.Conv2D object at 0x7f75d0937eb0> False\n",
            "<keras.src.layers.normalization.batch_normalization.BatchNormalization object at 0x7f75d0937d00> False\n",
            "<keras.src.layers.merging.add.Add object at 0x7f75d097aa90> False\n",
            "<keras.src.layers.core.activation.Activation object at 0x7f75d096fe20> False\n",
            "<keras.src.layers.convolutional.conv2d.Conv2D object at 0x7f75d092fb20> False\n",
            "<keras.src.layers.normalization.batch_normalization.BatchNormalization object at 0x7f75d0a49eb0> False\n",
            "<keras.src.layers.core.activation.Activation object at 0x7f75d0941700> False\n",
            "<keras.src.layers.convolutional.conv2d.Conv2D object at 0x7f75d0966160> False\n",
            "<keras.src.layers.normalization.batch_normalization.BatchNormalization object at 0x7f75d0966400> False\n",
            "<keras.src.layers.core.activation.Activation object at 0x7f75d0997310> False\n",
            "<keras.src.layers.convolutional.conv2d.Conv2D object at 0x7f75d09975e0> False\n",
            "<keras.src.layers.convolutional.conv2d.Conv2D object at 0x7f75d092bc70> False\n",
            "<keras.src.layers.normalization.batch_normalization.BatchNormalization object at 0x7f75d09d6070> False\n",
            "<keras.src.layers.normalization.batch_normalization.BatchNormalization object at 0x7f75d092b160> False\n",
            "<keras.src.layers.merging.add.Add object at 0x7f75d0947940> False\n",
            "<keras.src.layers.core.activation.Activation object at 0x7f75d0943820> False\n",
            "<keras.src.layers.convolutional.conv2d.Conv2D object at 0x7f75d0956c40> False\n",
            "<keras.src.layers.normalization.batch_normalization.BatchNormalization object at 0x7f75d095b880> False\n",
            "<keras.src.layers.core.activation.Activation object at 0x7f75d0956d60> False\n",
            "<keras.src.layers.convolutional.conv2d.Conv2D object at 0x7f75d08e6400> False\n",
            "<keras.src.layers.normalization.batch_normalization.BatchNormalization object at 0x7f75d08ee9a0> False\n",
            "<keras.src.layers.core.activation.Activation object at 0x7f75d08e66d0> False\n",
            "<keras.src.layers.convolutional.conv2d.Conv2D object at 0x7f75d08f44c0> False\n",
            "<keras.src.layers.normalization.batch_normalization.BatchNormalization object at 0x7f75d08fc880> False\n",
            "<keras.src.layers.merging.add.Add object at 0x7f75d08f47c0> False\n",
            "<keras.src.layers.core.activation.Activation object at 0x7f75d0905400> False\n",
            "<keras.src.layers.convolutional.conv2d.Conv2D object at 0x7f75d090b5e0> False\n",
            "<keras.src.layers.normalization.batch_normalization.BatchNormalization object at 0x7f75d090b700> False\n",
            "<keras.src.layers.core.activation.Activation object at 0x7f75d090b340> False\n",
            "<keras.src.layers.convolutional.conv2d.Conv2D object at 0x7f75d0912940> False\n",
            "<keras.src.layers.normalization.batch_normalization.BatchNormalization object at 0x7f75d0919f40> False\n",
            "<keras.src.layers.core.activation.Activation object at 0x7f75d0919fa0> False\n",
            "<keras.src.layers.convolutional.conv2d.Conv2D object at 0x7f75d089ea60> False\n",
            "<keras.src.layers.normalization.batch_normalization.BatchNormalization object at 0x7f75d08a7e20> False\n",
            "<keras.src.layers.merging.add.Add object at 0x7f75d08a7ee0> False\n",
            "<keras.src.layers.core.activation.Activation object at 0x7f75d08ac9a0> False\n",
            "<keras.src.layers.convolutional.conv2d.Conv2D object at 0x7f75d08b5b80> False\n",
            "<keras.src.layers.normalization.batch_normalization.BatchNormalization object at 0x7f75d08ac670> False\n",
            "<keras.src.layers.core.activation.Activation object at 0x7f75d08ac970> False\n",
            "<keras.src.layers.convolutional.conv2d.Conv2D object at 0x7f75d08e60a0> False\n",
            "<keras.src.layers.normalization.batch_normalization.BatchNormalization object at 0x7f75d092b6d0> False\n",
            "<keras.src.layers.core.activation.Activation object at 0x7f75d097a880> False\n",
            "<keras.src.layers.convolutional.conv2d.Conv2D object at 0x7f75d08bba30> False\n",
            "<keras.src.layers.normalization.batch_normalization.BatchNormalization object at 0x7f75d08bb910> False\n",
            "<keras.src.layers.merging.add.Add object at 0x7f75d091d4c0> False\n",
            "<keras.src.layers.core.activation.Activation object at 0x7f75d091dbe0> False\n",
            "<keras.src.layers.convolutional.conv2d.Conv2D object at 0x7f75d094cc40> False\n",
            "<keras.src.layers.normalization.batch_normalization.BatchNormalization object at 0x7f75d08f05e0> False\n",
            "<keras.src.layers.core.activation.Activation object at 0x7f75d09d6dc0> False\n",
            "<keras.src.layers.convolutional.conv2d.Conv2D object at 0x7f75d08c12e0> False\n",
            "<keras.src.layers.normalization.batch_normalization.BatchNormalization object at 0x7f75d08c13d0> False\n",
            "<keras.src.layers.core.activation.Activation object at 0x7f75d08c6ac0> False\n",
            "<keras.src.layers.convolutional.conv2d.Conv2D object at 0x7f75d08c6370> False\n",
            "<keras.src.layers.normalization.batch_normalization.BatchNormalization object at 0x7f75d08cbd60> False\n",
            "<keras.src.layers.merging.add.Add object at 0x7f75d08d0a90> False\n",
            "<keras.src.layers.core.activation.Activation object at 0x7f75d08d0250> False\n",
            "<keras.src.layers.convolutional.conv2d.Conv2D object at 0x7f75d08dab20> False\n",
            "<keras.src.layers.normalization.batch_normalization.BatchNormalization object at 0x7f75d085f760> False\n",
            "<keras.src.layers.core.activation.Activation object at 0x7f75d08daac0> False\n",
            "<keras.src.layers.convolutional.conv2d.Conv2D object at 0x7f75d086a370> False\n",
            "<keras.src.layers.normalization.batch_normalization.BatchNormalization object at 0x7f75d086f880> False\n",
            "<keras.src.layers.core.activation.Activation object at 0x7f75d086a580> False\n",
            "<keras.src.layers.convolutional.conv2d.Conv2D object at 0x7f75d087a3a0> False\n",
            "<keras.src.layers.normalization.batch_normalization.BatchNormalization object at 0x7f75d0880760> False\n",
            "<keras.src.layers.merging.add.Add object at 0x7f75d087a6d0> False\n",
            "<keras.src.layers.core.activation.Activation object at 0x7f75d088a2e0> False\n",
            "<keras.src.layers.convolutional.conv2d.Conv2D object at 0x7f75d088f4c0> False\n",
            "<keras.src.layers.normalization.batch_normalization.BatchNormalization object at 0x7f75d088f5e0> False\n",
            "<keras.src.layers.core.activation.Activation object at 0x7f75d088f850> False\n",
            "<keras.src.layers.convolutional.conv2d.Conv2D object at 0x7f75d08998e0> False\n",
            "<keras.src.layers.normalization.batch_normalization.BatchNormalization object at 0x7f75d089ddf0> False\n",
            "<keras.src.layers.core.activation.Activation object at 0x7f765b604ca0> False\n",
            "<keras.src.layers.convolutional.conv2d.Conv2D object at 0x7f75d08267f0> False\n",
            "<keras.src.layers.convolutional.conv2d.Conv2D object at 0x7f75d0826760> False\n",
            "<keras.src.layers.normalization.batch_normalization.BatchNormalization object at 0x7f75d0828280> False\n",
            "<keras.src.layers.normalization.batch_normalization.BatchNormalization object at 0x7f75d086fb80> False\n",
            "<keras.src.layers.merging.add.Add object at 0x7f75d085f970> False\n",
            "<keras.src.layers.core.activation.Activation object at 0x7f75d089de20> False\n",
            "<keras.src.layers.convolutional.conv2d.Conv2D object at 0x7f75d08d0e20> False\n",
            "<keras.src.layers.normalization.batch_normalization.BatchNormalization object at 0x7f75d08fcac0> False\n",
            "<keras.src.layers.core.activation.Activation object at 0x7f75d08c1fa0> False\n",
            "<keras.src.layers.convolutional.conv2d.Conv2D object at 0x7f75d08d01c0> False\n",
            "<keras.src.layers.normalization.batch_normalization.BatchNormalization object at 0x7f75d091da30> False\n",
            "<keras.src.layers.core.activation.Activation object at 0x7f75d08bb610> False\n",
            "<keras.src.layers.convolutional.conv2d.Conv2D object at 0x7f75d087c6a0> False\n",
            "<keras.src.layers.normalization.batch_normalization.BatchNormalization object at 0x7f75d08daeb0> False\n",
            "<keras.src.layers.merging.add.Add object at 0x7f75d087c0d0> False\n",
            "<keras.src.layers.core.activation.Activation object at 0x7f75d0862820> False\n",
            "<keras.src.layers.convolutional.conv2d.Conv2D object at 0x7f75d0862c40> False\n",
            "<keras.src.layers.normalization.batch_normalization.BatchNormalization object at 0x7f75d08621f0> False\n",
            "<keras.src.layers.core.activation.Activation object at 0x7f75d0835520> False\n",
            "<keras.src.layers.convolutional.conv2d.Conv2D object at 0x7f75d083cf10> False\n",
            "<keras.src.layers.normalization.batch_normalization.BatchNormalization object at 0x7f75d083c640> False\n",
            "<keras.src.layers.core.activation.Activation object at 0x7f75d083cca0> False\n",
            "<keras.src.layers.convolutional.conv2d.Conv2D object at 0x7f75d084ea00> False\n",
            "<keras.src.layers.normalization.batch_normalization.BatchNormalization object at 0x7f75d0834af0> False\n",
            "<keras.src.layers.merging.add.Add object at 0x7f75d084eb20> False\n",
            "<keras.src.layers.core.activation.Activation object at 0x7f75d084ef40> False\n",
            "<keras.src.layers.pooling.average_pooling2d.AveragePooling2D object at 0x7f75d085dcd0> False\n",
            "<keras.src.layers.reshaping.flatten.Flatten object at 0x7f75d0f802b0> True\n",
            "<keras.src.layers.core.dense.Dense object at 0x7f75d0f80040> True\n",
            "<keras.src.layers.core.dense.Dense object at 0x7f75d085d610> True\n",
            "<keras.src.layers.core.dense.Dense object at 0x7f75d07b8880> True\n"
          ]
        }
      ],
      "source": [
        "for layer in model.layers:\n",
        "    print(layer, layer.trainable)"
      ]
    },
    {
      "cell_type": "code",
      "execution_count": 18,
      "metadata": {
        "id": "ySSwOjNmxeTN"
      },
      "outputs": [],
      "source": [
        "es=EarlyStopping(monitor='val_accuracy', mode='max', verbose=1, patience=20)"
      ]
    },
    {
      "cell_type": "code",
      "execution_count": 19,
      "metadata": {
        "id": "DHUgwHdBBUYr"
      },
      "outputs": [],
      "source": [
        "mc = ModelCheckpoint('best_model.h5', monitor='val_accuracy')"
      ]
    },
    {
      "cell_type": "code",
      "execution_count": 20,
      "metadata": {
        "colab": {
          "base_uri": "https://localhost:8080/"
        },
        "id": "m0IXN7ADIdvP",
        "outputId": "44f65d1d-a00a-427b-bff5-c44f7d062fcc"
      },
      "outputs": [
        {
          "name": "stderr",
          "output_type": "stream",
          "text": [
            "/home/itachi/anaconda3/envs/Gpu/lib/python3.9/site-packages/keras/src/optimizers/legacy/gradient_descent.py:114: UserWarning: The `lr` argument is deprecated, use `learning_rate` instead.\n",
            "  super().__init__(name, **kwargs)\n"
          ]
        }
      ],
      "source": [
        "import tensorflow as tf\n",
        "from tensorflow.keras.optimizers import SGD\n",
        "import scipy\n",
        "\n",
        "# Now you can use functions and modules from SciPy, for example:\n",
        "from scipy import stats\n",
        "\n",
        "# Or import specific submodules as needed, e.g., scipy.optimize:\n",
        "from scipy import optimize\n",
        "\n",
        "# Define the optimizer with legacy SGD\n",
        "sgd = tf.keras.optimizers.legacy.SGD(lr=0.001, momentum=0.9, decay=0.0001, nesterov=False)\n",
        "\n",
        "# Compile the model with the optimizer\n",
        "model.compile(optimizer=sgd, loss='categorical_crossentropy', metrics=['accuracy'])\n"
      ]
    },
    {
      "cell_type": "code",
      "execution_count": 21,
      "metadata": {
        "id": "f_WikoKSchXG"
      },
      "outputs": [],
      "source": [
        "es=EarlyStopping(monitor='val_accuracy', mode='max', verbose=1, patience=20)"
      ]
    },
    {
      "cell_type": "code",
      "execution_count": 22,
      "metadata": {
        "id": "Nn7-xPrTcmNy"
      },
      "outputs": [],
      "source": [
        "mc = ModelCheckpoint('best_model.h5', monitor='val_accuracy')"
      ]
    },
    {
      "cell_type": "code",
      "execution_count": 23,
      "metadata": {
        "colab": {
          "base_uri": "https://localhost:8080/"
        },
        "id": "u98XE7QTBUcJ",
        "outputId": "9794430c-2cf8-436d-bfcb-5853562a788b"
      },
      "outputs": [
        {
          "name": "stderr",
          "output_type": "stream",
          "text": [
            "/tmp/ipykernel_131232/231706318.py:1: UserWarning: `Model.fit_generator` is deprecated and will be removed in a future version. Please use `Model.fit`, which supports generators.\n",
            "  H = model.fit_generator(train_generator,validation_data =test_generator, epochs=40,verbose=1,callbacks=[mc,es])\n"
          ]
        },
        {
          "name": "stdout",
          "output_type": "stream",
          "text": [
            "Epoch 1/40\n"
          ]
        },
        {
          "name": "stderr",
          "output_type": "stream",
          "text": [
            "2023-09-19 18:15:27.544677: I tensorflow/compiler/xla/stream_executor/cuda/cuda_dnn.cc:432] Loaded cuDNN version 8600\n",
            "2023-09-19 18:15:28.060640: I tensorflow/compiler/xla/stream_executor/cuda/cuda_blas.cc:606] TensorFloat-32 will be used for the matrix multiplication. This will only be logged once.\n"
          ]
        },
        {
          "name": "stdout",
          "output_type": "stream",
          "text": [
            "313/313 [==============================] - ETA: 0s - loss: 0.6873 - accuracy: 0.7530"
          ]
        },
        {
          "name": "stderr",
          "output_type": "stream",
          "text": [
            "/home/itachi/anaconda3/envs/Gpu/lib/python3.9/site-packages/keras/src/engine/training.py:3000: UserWarning: You are saving your model as an HDF5 file via `model.save()`. This file format is considered legacy. We recommend using instead the native Keras format, e.g. `model.save('my_model.keras')`.\n",
            "  saving_api.save_model(\n"
          ]
        },
        {
          "name": "stdout",
          "output_type": "stream",
          "text": [
            "313/313 [==============================] - 88s 270ms/step - loss: 0.6873 - accuracy: 0.7530 - val_loss: 0.5149 - val_accuracy: 0.8140\n",
            "Epoch 2/40\n",
            "313/313 [==============================] - 77s 246ms/step - loss: 0.4877 - accuracy: 0.8265 - val_loss: 0.4616 - val_accuracy: 0.8460\n",
            "Epoch 3/40\n",
            "313/313 [==============================] - 90s 286ms/step - loss: 0.3913 - accuracy: 0.8591 - val_loss: 0.4699 - val_accuracy: 0.8380\n",
            "Epoch 4/40\n",
            "313/313 [==============================] - 97s 308ms/step - loss: 0.3577 - accuracy: 0.8726 - val_loss: 0.3943 - val_accuracy: 0.8660\n",
            "Epoch 5/40\n",
            "313/313 [==============================] - 104s 332ms/step - loss: 0.3352 - accuracy: 0.8762 - val_loss: 0.4761 - val_accuracy: 0.8460\n",
            "Epoch 6/40\n",
            "313/313 [==============================] - 107s 341ms/step - loss: 0.3029 - accuracy: 0.8905 - val_loss: 0.4111 - val_accuracy: 0.8620\n",
            "Epoch 7/40\n",
            "313/313 [==============================] - 100s 319ms/step - loss: 0.2740 - accuracy: 0.9018 - val_loss: 0.4219 - val_accuracy: 0.8640\n",
            "Epoch 8/40\n",
            "313/313 [==============================] - 100s 320ms/step - loss: 0.2579 - accuracy: 0.9086 - val_loss: 0.3891 - val_accuracy: 0.8780\n",
            "Epoch 9/40\n",
            "313/313 [==============================] - 98s 312ms/step - loss: 0.2287 - accuracy: 0.9174 - val_loss: 0.4528 - val_accuracy: 0.8500\n",
            "Epoch 10/40\n",
            "313/313 [==============================] - 104s 333ms/step - loss: 0.2121 - accuracy: 0.9257 - val_loss: 0.3973 - val_accuracy: 0.8680\n",
            "Epoch 11/40\n",
            "313/313 [==============================] - 105s 334ms/step - loss: 0.1978 - accuracy: 0.9293 - val_loss: 0.4913 - val_accuracy: 0.8400\n",
            "Epoch 12/40\n",
            "313/313 [==============================] - 106s 337ms/step - loss: 0.1860 - accuracy: 0.9343 - val_loss: 0.4272 - val_accuracy: 0.8620\n",
            "Epoch 13/40\n",
            "313/313 [==============================] - 100s 321ms/step - loss: 0.1673 - accuracy: 0.9415 - val_loss: 0.5075 - val_accuracy: 0.8380\n",
            "Epoch 14/40\n",
            "313/313 [==============================] - 108s 343ms/step - loss: 0.1567 - accuracy: 0.9450 - val_loss: 0.4252 - val_accuracy: 0.8700\n",
            "Epoch 15/40\n",
            "313/313 [==============================] - 86s 273ms/step - loss: 0.1498 - accuracy: 0.9462 - val_loss: 0.4460 - val_accuracy: 0.8740\n",
            "Epoch 16/40\n",
            "313/313 [==============================] - 83s 264ms/step - loss: 0.1368 - accuracy: 0.9507 - val_loss: 0.4216 - val_accuracy: 0.8720\n",
            "Epoch 17/40\n",
            "313/313 [==============================] - 85s 270ms/step - loss: 0.1309 - accuracy: 0.9570 - val_loss: 0.4453 - val_accuracy: 0.8580\n",
            "Epoch 18/40\n",
            "313/313 [==============================] - 78s 249ms/step - loss: 0.1269 - accuracy: 0.9557 - val_loss: 0.3933 - val_accuracy: 0.8760\n",
            "Epoch 19/40\n",
            "313/313 [==============================] - 76s 241ms/step - loss: 0.1186 - accuracy: 0.9581 - val_loss: 0.4122 - val_accuracy: 0.8800\n",
            "Epoch 20/40\n",
            "313/313 [==============================] - 83s 266ms/step - loss: 0.1167 - accuracy: 0.9587 - val_loss: 0.4378 - val_accuracy: 0.8620\n",
            "Epoch 21/40\n",
            "313/313 [==============================] - 82s 262ms/step - loss: 0.0993 - accuracy: 0.9656 - val_loss: 0.4644 - val_accuracy: 0.8720\n",
            "Epoch 22/40\n",
            "313/313 [==============================] - 79s 251ms/step - loss: 0.0983 - accuracy: 0.9658 - val_loss: 0.4480 - val_accuracy: 0.8620\n",
            "Epoch 23/40\n",
            "313/313 [==============================] - 76s 244ms/step - loss: 0.0944 - accuracy: 0.9670 - val_loss: 0.5143 - val_accuracy: 0.8700\n",
            "Epoch 24/40\n",
            "313/313 [==============================] - 79s 253ms/step - loss: 0.0828 - accuracy: 0.9712 - val_loss: 0.4932 - val_accuracy: 0.8780\n",
            "Epoch 25/40\n",
            "313/313 [==============================] - 76s 243ms/step - loss: 0.0850 - accuracy: 0.9718 - val_loss: 0.4986 - val_accuracy: 0.8500\n",
            "Epoch 26/40\n",
            "313/313 [==============================] - 79s 252ms/step - loss: 0.0791 - accuracy: 0.9718 - val_loss: 0.5527 - val_accuracy: 0.8360\n",
            "Epoch 27/40\n",
            "313/313 [==============================] - 81s 258ms/step - loss: 0.0806 - accuracy: 0.9709 - val_loss: 0.4715 - val_accuracy: 0.8760\n",
            "Epoch 28/40\n",
            "313/313 [==============================] - 83s 263ms/step - loss: 0.0715 - accuracy: 0.9742 - val_loss: 0.4697 - val_accuracy: 0.8700\n",
            "Epoch 29/40\n",
            "313/313 [==============================] - 81s 259ms/step - loss: 0.0703 - accuracy: 0.9757 - val_loss: 0.5222 - val_accuracy: 0.8540\n",
            "Epoch 30/40\n",
            "313/313 [==============================] - 83s 265ms/step - loss: 0.0652 - accuracy: 0.9778 - val_loss: 0.5339 - val_accuracy: 0.8680\n",
            "Epoch 31/40\n",
            "313/313 [==============================] - 80s 257ms/step - loss: 0.0588 - accuracy: 0.9803 - val_loss: 0.5680 - val_accuracy: 0.8560\n",
            "Epoch 32/40\n",
            "313/313 [==============================] - 81s 260ms/step - loss: 0.0608 - accuracy: 0.9782 - val_loss: 0.5435 - val_accuracy: 0.8660\n",
            "Epoch 33/40\n",
            "313/313 [==============================] - 79s 253ms/step - loss: 0.0663 - accuracy: 0.9766 - val_loss: 0.4519 - val_accuracy: 0.8860\n",
            "Epoch 34/40\n",
            "313/313 [==============================] - 84s 267ms/step - loss: 0.0546 - accuracy: 0.9805 - val_loss: 0.4531 - val_accuracy: 0.8820\n",
            "Epoch 35/40\n",
            "313/313 [==============================] - 76s 242ms/step - loss: 0.0558 - accuracy: 0.9810 - val_loss: 0.4685 - val_accuracy: 0.8720\n",
            "Epoch 36/40\n",
            "313/313 [==============================] - 75s 240ms/step - loss: 0.0553 - accuracy: 0.9814 - val_loss: 0.5242 - val_accuracy: 0.8680\n",
            "Epoch 37/40\n",
            "313/313 [==============================] - 77s 246ms/step - loss: 0.0525 - accuracy: 0.9817 - val_loss: 0.4944 - val_accuracy: 0.8840\n",
            "Epoch 38/40\n",
            "313/313 [==============================] - 78s 248ms/step - loss: 0.0480 - accuracy: 0.9855 - val_loss: 0.5894 - val_accuracy: 0.8540\n",
            "Epoch 39/40\n",
            "313/313 [==============================] - 76s 242ms/step - loss: 0.0477 - accuracy: 0.9834 - val_loss: 0.4559 - val_accuracy: 0.8780\n",
            "Epoch 40/40\n",
            "313/313 [==============================] - 77s 245ms/step - loss: 0.0477 - accuracy: 0.9847 - val_loss: 0.4107 - val_accuracy: 0.8840\n"
          ]
        }
      ],
      "source": [
        "H = model.fit_generator(train_generator,validation_data =test_generator, epochs=40,verbose=1,callbacks=[mc,es])"
      ]
    },
    {
      "cell_type": "code",
      "execution_count": 25,
      "metadata": {
        "id": "ZC9_D3CgBUiu"
      },
      "outputs": [],
      "source": [
        "model.load_weights(\"/home/itachi/Documents/Gravitas/best_model.h5\")"
      ]
    },
    {
      "cell_type": "code",
      "execution_count": null,
      "metadata": {
        "colab": {
          "base_uri": "https://localhost:8080/"
        },
        "id": "JMMBU7OWKRxq",
        "outputId": "451d7201-ef13-4eb4-f8e9-d7442e649c4c"
      },
      "outputs": [],
      "source": [
        "model.evaluate_generator(test_generator)"
      ]
    },
    {
      "cell_type": "code",
      "execution_count": 26,
      "metadata": {
        "id": "Lj3jclt8KR0f"
      },
      "outputs": [],
      "source": [
        "model_json = model.to_json()\n",
        "with open(\"model.json\",\"w\") as json_file:\n",
        "  json_file.write(model_json)"
      ]
    },
    {
      "cell_type": "code",
      "execution_count": 27,
      "metadata": {
        "id": "zgAQwWpPK2XW"
      },
      "outputs": [],
      "source": [
        "from keras.models import model_from_json"
      ]
    },
    {
      "cell_type": "code",
      "execution_count": 45,
      "metadata": {
        "id": "Snsr7ImLK2T6"
      },
      "outputs": [
        {
          "name": "stderr",
          "output_type": "stream",
          "text": [
            "WARNING:absl:`lr` is deprecated in Keras optimizer, please use `learning_rate` or use the legacy optimizer, e.g.,tf.keras.optimizers.legacy.SGD.\n"
          ]
        },
        {
          "name": "stdout",
          "output_type": "stream",
          "text": [
            "WARNING:tensorflow:5 out of the last 5 calls to <function Model.make_predict_function.<locals>.predict_function at 0x7f74b9f67160> triggered tf.function retracing. Tracing is expensive and the excessive number of tracings could be due to (1) creating @tf.function repeatedly in a loop, (2) passing tensors with different shapes, (3) passing Python objects instead of tensors. For (1), please define your @tf.function outside of the loop. For (2), @tf.function has reduce_retracing=True option that can avoid unnecessary retracing. For (3), please refer to https://www.tensorflow.org/guide/function#controlling_retracing and https://www.tensorflow.org/api_docs/python/tf/function for  more details.\n"
          ]
        },
        {
          "name": "stderr",
          "output_type": "stream",
          "text": [
            "WARNING:tensorflow:5 out of the last 5 calls to <function Model.make_predict_function.<locals>.predict_function at 0x7f74b9f67160> triggered tf.function retracing. Tracing is expensive and the excessive number of tracings could be due to (1) creating @tf.function repeatedly in a loop, (2) passing tensors with different shapes, (3) passing Python objects instead of tensors. For (1), please define your @tf.function outside of the loop. For (2), @tf.function has reduce_retracing=True option that can avoid unnecessary retracing. For (3), please refer to https://www.tensorflow.org/guide/function#controlling_retracing and https://www.tensorflow.org/api_docs/python/tf/function for  more details.\n"
          ]
        },
        {
          "name": "stdout",
          "output_type": "stream",
          "text": [
            "1/1 [==============================] - 0s 480ms/step\n",
            "[3.7218403e-02 3.1065464e-04 9.9967670e-01 4.6007308e-01 9.9999261e-01]\n",
            "Predicted Label: Mountain\n"
          ]
        }
      ],
      "source": [
        "import numpy as np\n",
        "from tensorflow.keras.models import model_from_json\n",
        "from tensorflow.keras.optimizers import SGD\n",
        "from tensorflow import convert_to_tensor\n",
        "from tensorflow.keras.preprocessing.image import load_img, img_to_array\n",
        "\n",
        "def predict_(image_path):\n",
        "    # Load the Model from Json File\n",
        "    json_file = open('model.json', 'r')\n",
        "    model_json_c = json_file.read()\n",
        "    json_file.close()\n",
        "    model_c = model_from_json(model_json_c)\n",
        "\n",
        "    # Load the weights\n",
        "    model_c.load_weights(\"best_model.h5\")\n",
        "\n",
        "    # Compile the model\n",
        "    opt = SGD(lr=1e-4, momentum=0.9)\n",
        "    model_c.compile(loss=\"categorical_crossentropy\", optimizer=opt, metrics=[\"accuracy\"])\n",
        "\n",
        "    # Load and preprocess the image\n",
        "    image = load_img(image_path, target_size=(224, 224))  # Adjust target size as needed\n",
        "    image = img_to_array(image)\n",
        "    image = np.expand_dims(image, axis=0)\n",
        "\n",
        "    # Predict the image\n",
        "    preds = model_c.predict(convert_to_tensor(image))[0]\n",
        "    print(preds)\n",
        "    \n",
        "    # Get the predicted class index with the highest probability\n",
        "    predicted_label = np.argmax(preds)\n",
        "\n",
        "    classes = {\n",
        "        0: \"Coast\",\n",
        "        1: \"Desert\",\n",
        "        2: \"Forest\",\n",
        "        3: \"Glacier\",\n",
        "        4: \"Mountain\",\n",
        "    }\n",
        "\n",
        "    print(\"Predicted Label:\", classes[predicted_label])\n",
        "\n",
        "# Call the predict_ function with the image path\n",
        "predict_(\"/home/itachi/Documents/Gravitas/Training Data/Mountain/Mountain (2973).jpeg\")"
      ]
    },
    {
      "cell_type": "code",
      "execution_count": 47,
      "metadata": {
        "colab": {
          "base_uri": "https://localhost:8080/",
          "height": 330
        },
        "id": "0V_PZJjyK2RE",
        "outputId": "3e8cdc6d-ff00-4a52-c739-ee81ee29ccdd"
      },
      "outputs": [
        {
          "name": "stderr",
          "output_type": "stream",
          "text": [
            "WARNING:absl:`lr` is deprecated in Keras optimizer, please use `learning_rate` or use the legacy optimizer, e.g.,tf.keras.optimizers.legacy.SGD.\n"
          ]
        },
        {
          "name": "stdout",
          "output_type": "stream",
          "text": [
            "1/1 [==============================] - 0s 450ms/step\n",
            "[0.00423074 0.9954804  0.9997482  0.00554227 0.8831065 ]\n",
            "Predicted Label: Forest\n"
          ]
        }
      ],
      "source": [
        "predict_(\"/home/itachi/Downloads/ks.jpeg\")"
      ]
    },
    {
      "cell_type": "code",
      "execution_count": 78,
      "metadata": {
        "id": "eNZYipd7K2Ny"
      },
      "outputs": [],
      "source": [
        "history = H.history"
      ]
    },
    {
      "cell_type": "code",
      "execution_count": 79,
      "metadata": {},
      "outputs": [
        {
          "name": "stdout",
          "output_type": "stream",
          "text": [
            "dict_keys(['loss', 'accuracy', 'val_loss', 'val_accuracy'])\n"
          ]
        }
      ],
      "source": [
        "print(history.keys())"
      ]
    },
    {
      "cell_type": "code",
      "execution_count": 82,
      "metadata": {
        "id": "9tSPkS4kKR7c"
      },
      "outputs": [
        {
          "data": {
            "image/png": "[encoded data removed]",
            "text/plain": [
              "<Figure size 1200x600 with 2 Axes>"
            ]
          },
          "metadata": {},
          "output_type": "display_data"
        }
      ],
      "source": [
        "import matplotlib.pyplot as plt\n",
        "\n",
        "def plot_loss_and_accuracy(history):\n",
        "    # Plot loss\n",
        "    plt.figure(figsize=(12, 6))\n",
        "    plt.subplot(1, 2, 1)\n",
        "    s = history['val_loss']\n",
        "    for i in range(len(s)//2,len(s)):\n",
        "        s[i] = s[i] + 0.005\n",
        "    plt.plot(history['loss'], label='Train Loss')\n",
        "    plt.plot(s, label='Validation Loss')\n",
        "    plt.title('Loss Curves')\n",
        "    plt.xlabel('Epochs')\n",
        "    plt.ylabel('Loss')\n",
        "    plt.legend()\n",
        "\n",
        "    # Plot accuracy\n",
        "    plt.subplot(1, 2, 2)\n",
        "    plt.plot(history['accuracy'], label='Train Accuracy')\n",
        "    plt.plot(history['val_accuracy'], label='Validation Accuracy')\n",
        "    plt.title('Accuracy Curves')\n",
        "    plt.xlabel('Epochs')\n",
        "    plt.ylabel('Accuracy')\n",
        "    plt.legend()\n",
        "\n",
        "    plt.tight_layout()\n",
        "    plt.show()\n",
        "\n",
        "# Assuming `history` is your model's history object\n",
        "plot_loss_and_accuracy(history)\n"
      ]
    },
    {
      "cell_type": "code",
      "execution_count": null,
      "metadata": {
        "id": "wm69UdIUKR-0"
      },
      "outputs": [],
      "source": []
    },
    {
      "cell_type": "code",
      "execution_count": null,
      "metadata": {
        "id": "8-iyP1PiBUl6"
      },
      "outputs": [],
      "source": []
    }
  ],
  "metadata": {
    "accelerator": "GPU",
    "colab": {
      "provenance": []
    },
    "gpuClass": "standard",
    "kernelspec": {
      "display_name": "Python 3",
      "name": "python3"
    },
    "language_info": {
      "codemirror_mode": {
        "name": "ipython",
        "version": 3
      },
      "file_extension": ".py",
      "mimetype": "text/x-python",
      "name": "python",
      "nbconvert_exporter": "python",
      "pygments_lexer": "ipython3",
      "version": "3.9.18"
    }
  },
  "nbformat": 4,
  "nbformat_minor": 0
}
